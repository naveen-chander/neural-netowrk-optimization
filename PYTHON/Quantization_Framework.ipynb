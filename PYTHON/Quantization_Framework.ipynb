{
 "cells": [
  {
   "cell_type": "markdown",
   "metadata": {},
   "source": [
    "# Quantization Framework for Neural Networks\n",
    "<b> >>This flow accepts the Pruned Model and Quantizes its Weights to the nearest power of 2<br>\n",
    "<b> >>The Quantized model is saved into a file and performance of the Quantized model is evaluated"
   ]
  },
  {
   "cell_type": "code",
   "execution_count": 12,
   "metadata": {},
   "outputs": [],
   "source": [
    "import numpy as np\n",
    "%matplotlib inline\n",
    "import matplotlib.pyplot as plt\n",
    "# For Generating MNIST Dataset\n",
    "import tensorflow as tf\n",
    "from tensorflow import keras\n",
    "from keras.constraints import Constraint\n",
    "import keras.backend as K\n",
    "import math\n",
    "import scipy.io"
   ]
  },
  {
   "cell_type": "markdown",
   "metadata": {},
   "source": [
    "<b>2. Prepare MNIST Dataset"
   ]
  },
  {
   "cell_type": "code",
   "execution_count": 2,
   "metadata": {},
   "outputs": [],
   "source": [
    "# Dataset Preparation\n",
    "mnist = keras.datasets.mnist\n",
    "(train_images, train_labels), (test_images, test_labels) = mnist.load_data()\n",
    "\n",
    "# Normalize the input image so that each pixel value is between 0 to 1.\n",
    "train_images = train_images / 255.0\n",
    "test_images = test_images / 255.0"
   ]
  },
  {
   "cell_type": "markdown",
   "metadata": {},
   "source": [
    "<b>3. Train MLP on MNIST</b><br>"
   ]
  },
  {
   "cell_type": "code",
   "execution_count": 3,
   "metadata": {},
   "outputs": [
    {
     "name": "stdout",
     "output_type": "stream",
     "text": [
      "WARNING:tensorflow:From C:\\Users\\mghnv\\Anaconda3\\lib\\site-packages\\tensorflow\\python\\ops\\resource_variable_ops.py:435: colocate_with (from tensorflow.python.framework.ops) is deprecated and will be removed in a future version.\n",
      "Instructions for updating:\n",
      "Colocations handled automatically by placer.\n",
      "Train on 54000 samples, validate on 6000 samples\n",
      "Epoch 1/10\n",
      "54000/54000 [==============================] - 3s 49us/sample - loss: 0.3961 - acc: 0.8859 - val_loss: 0.1868 - val_acc: 0.9467\n",
      "Epoch 2/10\n",
      "54000/54000 [==============================] - 2s 45us/sample - loss: 0.1956 - acc: 0.9425 - val_loss: 0.1450 - val_acc: 0.9592\n",
      "Epoch 3/10\n",
      "54000/54000 [==============================] - 2s 41us/sample - loss: 0.1574 - acc: 0.9541 - val_loss: 0.1257 - val_acc: 0.9632\n",
      "Epoch 4/10\n",
      "54000/54000 [==============================] - 2s 42us/sample - loss: 0.1371 - acc: 0.9604 - val_loss: 0.1247 - val_acc: 0.9645\n",
      "Epoch 5/10\n",
      "54000/54000 [==============================] - 2s 42us/sample - loss: 0.1240 - acc: 0.9648 - val_loss: 0.1227 - val_acc: 0.9638\n",
      "Epoch 6/10\n",
      "54000/54000 [==============================] - 2s 41us/sample - loss: 0.1132 - acc: 0.9671 - val_loss: 0.1228 - val_acc: 0.9677\n",
      "Epoch 7/10\n",
      "54000/54000 [==============================] - 2s 45us/sample - loss: 0.1047 - acc: 0.9712 - val_loss: 0.1220 - val_acc: 0.9667\n",
      "Epoch 8/10\n",
      "54000/54000 [==============================] - 3s 47us/sample - loss: 0.0987 - acc: 0.9717 - val_loss: 0.1254 - val_acc: 0.9677\n",
      "Epoch 9/10\n",
      "54000/54000 [==============================] - 2s 44us/sample - loss: 0.0934 - acc: 0.9736 - val_loss: 0.1283 - val_acc: 0.9658\n",
      "Epoch 10/10\n",
      "54000/54000 [==============================] - 2s 44us/sample - loss: 0.0893 - acc: 0.9748 - val_loss: 0.1243 - val_acc: 0.9677\n",
      "_________________________________________________________________\n",
      "Layer (type)                 Output Shape              Param #   \n",
      "=================================================================\n",
      "flatten (Flatten)            (None, 784)               0         \n",
      "_________________________________________________________________\n",
      "dense (Dense)                (None, 32)                25120     \n",
      "_________________________________________________________________\n",
      "dense_1 (Dense)              (None, 16)                528       \n",
      "_________________________________________________________________\n",
      "dense_2 (Dense)              (None, 10)                170       \n",
      "=================================================================\n",
      "Total params: 25,818\n",
      "Trainable params: 25,818\n",
      "Non-trainable params: 0\n",
      "_________________________________________________________________\n"
     ]
    }
   ],
   "source": [
    "from tensorflow.keras.constraints import max_norm\n",
    "model = keras.Sequential([\n",
    "  keras.layers.InputLayer(input_shape=(28, 28)),   \n",
    "  keras.layers.Flatten(),                    \n",
    "  keras.layers.Dense(32, activation=tf.nn.relu),\n",
    "  keras.layers.Dense(16, activation=tf.nn.relu),\n",
    "  keras.layers.Dense(10, activation=tf.nn.softmax)\n",
    "])\n",
    "# Train the digit classification model\n",
    "model.compile(optimizer=keras.optimizers.RMSprop(),\n",
    "loss='sparse_categorical_crossentropy',\n",
    "              metrics=['accuracy'])\n",
    "\n",
    "model.fit(\n",
    "  train_images,\n",
    "  train_labels,\n",
    "  epochs=10,\n",
    "  validation_split=0.1,\n",
    ")\n",
    "model.summary()"
   ]
  },
  {
   "cell_type": "markdown",
   "metadata": {},
   "source": [
    "<b>4. Obtain Model Parameter Statistics</b><br>"
   ]
  },
  {
   "cell_type": "markdown",
   "metadata": {},
   "source": [
    "Functions to do the following tasks:\n",
    "1. <b>evaluate(x_inp)</b> :->returns the layer-wise output values of all layers <br>\n",
    "2. <b>relu(w)  </b>       :->ReLu<br>\n",
    "3. <b>quantize_power2(w1)</b> :-> Quantize to nearest power of 2 (Only for Histogram plotting)<br>\n",
    "4. <b>plot_hist(w_mat,name)</b>:-> Histogram Plotter\n",
    "5. <b>quantToNearestPowerOf2(w1)</b>:-> Actual Quantization hppens here (based on Histogram Outputs)\n",
    "6. <b>forward(x_inp,w1,b1,w2,b2,w3,b3)</b>:-> Forward Path calculation Range: To obtain Performance of the Quantized Network"
   ]
  },
  {
   "cell_type": "code",
   "execution_count": 22,
   "metadata": {},
   "outputs": [],
   "source": [
    "# Evaluate without RELU TO be get max range\n",
    "def evaluate(x_inp):\n",
    "    '''This function returns the layer-wise output values of all layers'''\n",
    "    w1 = model.layers[1].get_weights()\n",
    "    w2 = model.layers[2].get_weights()\n",
    "    w3 = model.layers[3].get_weights()\n",
    "    acc1 = np.squeeze(np.matmul(w1[0].T,x_inp))+w1[1]\n",
    "\n",
    "    #print(np.matmul(w1[0].T,x_inp))\n",
    "    layer1_op = relu(acc1)\n",
    "    acc2 = np.squeeze(np.matmul(w2[0].T,layer1_op))+w2[1]\n",
    "    layer2_op = relu(acc2)\n",
    "    layer3_op = np.squeeze(np.matmul(w3[0].T,layer2_op))+w3[1]\n",
    "    predict = np.argmax(layer3_op)\n",
    "    return acc1,acc2,layer1_op, layer2_op, layer3_op,predict\n",
    "# RELU Function\n",
    "def relu(w):\n",
    "    op =[x if x > 0 else 0 for x in w]\n",
    "    return op \n",
    "\n",
    "# Quantize weights for nearest power of 2\n",
    "# Only for histogram plotting\n",
    "def quantize_power2(w1):\n",
    "    \n",
    "    if len(w1.shape) ==2 :  # for 2d arrays\n",
    "        powers = range(-8,9)\n",
    "        q_lookup = [2**x for x in powers]\n",
    "        for row in range(w1.shape[0]):\n",
    "            for col in range(w1.shape[1]):\n",
    "                abs_ele = abs(w1[row][col])\n",
    "                ele_sel = q_lookup[0]\n",
    "                for i in q_lookup:\n",
    "                    if abs_ele > i:\n",
    "                        ele_sel = i\n",
    "                w1[row][col] = math.log(ele_sel,2)\n",
    "    elif len(w1.shape) ==2 :  # for 1d arrays\n",
    "        powers = range(-8,9)\n",
    "        q_lookup = [2**x for x in powers]\n",
    "        for row in range(w1.shape):\n",
    "            abs_ele = abs(w1[row])\n",
    "            for i in q_lookup:\n",
    "                if abs_ele > i:\n",
    "                    ele_sel = i\n",
    "            w1[row] = math.log(ele_sel,2)\n",
    "    return w1\n",
    "#---------------------------------------------------------------------\n",
    "def plot_hist(w_mat,name):\n",
    "    weights= np.array(w_mat)\n",
    "    weights =weights.reshape(-1,1)\n",
    "    plt.style.use('dark_background')\n",
    "    #hist,bins=np.histogram(weights,bins=[-8,-7,-6,-5,-4,-3,-2,-1,0,1,2,3,4,5,6,7,8,9])\n",
    "    plt.figure()\n",
    "    plt.title(\"histogram of \"+name) \n",
    "    plt.hist(weights,bins=[-8,-7,-6,-5,-4,-3,-2,-1,0,1,2,3,4,5,6,7,8,9],color = \"green\")\n",
    "    print(\"plotting Histogram of datapoints of size\",format(weights.shape))\n",
    "    plt.show()\n",
    "\n",
    "def quantToNearestPowerOf2(w1):\n",
    "    '''\n",
    "    From weights in Histogram , we see that all weights are within [-2,2]\n",
    "    Thus, to quantize them to powers to 2, each weight shall be mapped to one of  \n",
    "    [-2,-1,-0.5 -0.25 -0.125 0 +0.125 +0.25 +0.5 +1 +2]\n",
    "    \n",
    "    '''\n",
    "    if len(w1.shape) ==2 :  # for 2d arrays\n",
    "        q_lookup = [-2,-1,-0.5, -0.25, -0.125, 0, +0.125, +0.25, +0.5, +1, +2]\n",
    "        for row in range(w1.shape[0]):\n",
    "            for col in range(w1.shape[1]):\n",
    "                element = w1[row][col]\n",
    "                diff = np.array([abs(i - element) for i in q_lookup])\n",
    "                min_diff_index = np.argmin(diff)\n",
    "                w1[row][col] = q_lookup[min_diff_index]\n",
    "    else :  # for 1d arrays\n",
    "        q_lookup = [-2,-1,-0.5, -0.25, -0.125, 0, +0.125, +0.25, +0.5, +1, +2]\n",
    "        for row in range(w1.shape[0]):\n",
    "            element = w1[row]\n",
    "            diff = np.array([abs(i - element) for i in q_lookup])\n",
    "            min_diff_index = np.argmin(diff)\n",
    "            w1[row] = q_lookup[min_diff_index]\n",
    "    return w1\n",
    "\n",
    "def forward(x_inp,w1,b1,w2,b2,w3,b3):\n",
    "    acc1 = np.squeeze(np.matmul(w1.T,x_inp))+b1\n",
    "    layer1_op = relu(acc1)\n",
    "    acc2 = np.squeeze(np.matmul(w2.T,layer1_op))+b2\n",
    "    layer2_op = relu(acc2)\n",
    "    layer3_op = np.squeeze(np.matmul(w3.T,layer2_op))+b3\n",
    "    predict = np.argmax(layer3_op)\n",
    "    return acc1,acc2,layer1_op, layer2_op, layer3_op,predict"
   ]
  },
  {
   "cell_type": "markdown",
   "metadata": {},
   "source": [
    "<b>4.a Obtain Intermediate layer Outputs for all inputs in Training Dataset</b><br>"
   ]
  },
  {
   "cell_type": "code",
   "execution_count": 7,
   "metadata": {},
   "outputs": [],
   "source": [
    "# Obtain Histogram of all Weights and Layer Outputs\n",
    "layer1_ops = []\n",
    "layer2_ops = []\n",
    "layer3_ops = []\n",
    "acc1s = []\n",
    "acc2s =[]\n",
    "predictions=[]\n",
    "for img in test_images:\n",
    "    x_inp = img.reshape(784,1)\n",
    "    acc1, acc2, layer1_op, layer2_op, layer3_op, predict = evaluate(x_inp)\n",
    "    layer1_ops.append(layer1_op)\n",
    "    layer2_ops.append(layer2_op)\n",
    "    layer3_ops.append(layer3_op)\n",
    "    acc1s.append(acc1)\n",
    "    acc2s.append(acc2)\n",
    "    predictions.append(predict)"
   ]
  },
  {
   "cell_type": "code",
   "execution_count": 18,
   "metadata": {},
   "outputs": [],
   "source": []
  },
  {
   "cell_type": "markdown",
   "metadata": {},
   "source": [
    "<b>4b. Obtain Histograms of all weights, biases and intermediate layer outputs"
   ]
  },
  {
   "cell_type": "code",
   "execution_count": 15,
   "metadata": {},
   "outputs": [
    {
     "name": "stdout",
     "output_type": "stream",
     "text": [
      "plotting Histogram of datapoints of size (320000, 1)\n"
     ]
    },
    {
     "data": {
      "image/png": "[encoded data removed]",
      "text/plain": [
       "<Figure size 432x288 with 1 Axes>"
      ]
     },
     "metadata": {},
     "output_type": "display_data"
    },
    {
     "name": "stdout",
     "output_type": "stream",
     "text": [
      "plotting Histogram of datapoints of size (160000, 1)\n"
     ]
    },
    {
     "data": {
      "image/png": "[encoded data removed]",
      "text/plain": [
       "<Figure size 432x288 with 1 Axes>"
      ]
     },
     "metadata": {},
     "output_type": "display_data"
    },
    {
     "name": "stdout",
     "output_type": "stream",
     "text": [
      "plotting Histogram of datapoints of size (100000, 1)\n"
     ]
    },
    {
     "data": {
      "image/png": "[encoded data removed]",
      "text/plain": [
       "<Figure size 432x288 with 1 Axes>"
      ]
     },
     "metadata": {},
     "output_type": "display_data"
    },
    {
     "name": "stdout",
     "output_type": "stream",
     "text": [
      "plotting Histogram of datapoints of size (25088, 1)\n"
     ]
    },
    {
     "data": {
      "image/png": "[encoded data removed]",
      "text/plain": [
       "<Figure size 432x288 with 1 Axes>"
      ]
     },
     "metadata": {},
     "output_type": "display_data"
    },
    {
     "name": "stdout",
     "output_type": "stream",
     "text": [
      "plotting Histogram of datapoints of size (512, 1)\n"
     ]
    },
    {
     "data": {
      "image/png": "[encoded data removed]",
      "text/plain": [
       "<Figure size 432x288 with 1 Axes>"
      ]
     },
     "metadata": {},
     "output_type": "display_data"
    },
    {
     "name": "stdout",
     "output_type": "stream",
     "text": [
      "plotting Histogram of datapoints of size (160, 1)\n"
     ]
    },
    {
     "data": {
      "image/png": "[encoded data removed]",
      "text/plain": [
       "<Figure size 432x288 with 1 Axes>"
      ]
     },
     "metadata": {},
     "output_type": "display_data"
    },
    {
     "name": "stdout",
     "output_type": "stream",
     "text": [
      "plotting Histogram of datapoints of size (32, 1)\n"
     ]
    },
    {
     "data": {
      "image/png": "[encoded data removed]",
      "text/plain": [
       "<Figure size 432x288 with 1 Axes>"
      ]
     },
     "metadata": {},
     "output_type": "display_data"
    },
    {
     "name": "stdout",
     "output_type": "stream",
     "text": [
      "plotting Histogram of datapoints of size (16, 1)\n"
     ]
    },
    {
     "data": {
      "image/png": "[encoded data removed]",
      "text/plain": [
       "<Figure size 432x288 with 1 Axes>"
      ]
     },
     "metadata": {},
     "output_type": "display_data"
    },
    {
     "name": "stdout",
     "output_type": "stream",
     "text": [
      "plotting Histogram of datapoints of size (10, 1)\n"
     ]
    },
    {
     "data": {
      "image/png": "[encoded data removed]",
      "text/plain": [
       "<Figure size 432x288 with 1 Axes>"
      ]
     },
     "metadata": {},
     "output_type": "display_data"
    }
   ],
   "source": [
    "# Get Histogram of Weights\n",
    "w1 = model.layers[1].get_weights()[0]\n",
    "w2 = model.layers[2].get_weights()[0]\n",
    "w3 = model.layers[3].get_weights()[0]\n",
    "b1 = model.layers[1].get_weights()[1]\n",
    "b2 = model.layers[2].get_weights()[1]\n",
    "b3 = model.layers[3].get_weights()[1]\n",
    "\n",
    "w1_q = quantize_power2(w1)\n",
    "w2_q = quantize_power2(w2)\n",
    "w3_q = quantize_power2(w3)\n",
    "b1_q = quantize_power2(b1)\n",
    "b2_q = quantize_power2(b2)\n",
    "b3_q = quantize_power2(b3)\n",
    "\n",
    "layer1_ops_q = quantize_power2(np.array(layer1_ops))\n",
    "layer2_ops_q = quantize_power2(np.array(layer2_ops))\n",
    "layer3_ops_q = quantize_power2(np.array(layer3_ops))\n",
    "\n",
    "plot_hist(layer1_ops_q,'layer1_outputs')\n",
    "plot_hist(layer2_ops_q,'layer2_outputs')\n",
    "plot_hist(layer3_ops_q,'layer3_ops')\n",
    "plot_hist(w1_q,'layer1_weights')\n",
    "plot_hist(w2_q,'layer2_weights')\n",
    "plot_hist(w3_q,'layer3_weights')\n",
    "plot_hist(b1_q,'layer1_biases')\n",
    "plot_hist(b2_q,'layer2_biases')\n",
    "plot_hist(b3_q,'layer3_biases')\n"
   ]
  },
  {
   "cell_type": "markdown",
   "metadata": {},
   "source": [
    "<b>4c. Save Quantized Model in a file"
   ]
  },
  {
   "cell_type": "code",
   "execution_count": 19,
   "metadata": {},
   "outputs": [],
   "source": [
    "import scipy.io\n",
    "w1 = model.layers[1].get_weights()[0]\n",
    "w2 = model.layers[2].get_weights()[0]\n",
    "w3 = model.layers[3].get_weights()[0]\n",
    "b1 = model.layers[1].get_weights()[1]\n",
    "b2 = model.layers[2].get_weights()[1]\n",
    "b3 = model.layers[3].get_weights()[1]\n",
    "\n",
    "layer1_ops = []\n",
    "layer2_ops = []\n",
    "layer3_ops = []\n",
    "acc1s = []\n",
    "acc2s =[]\n",
    "predictions=[]\n",
    "# Define new weights as quantized to power to 2 weights\n",
    "w1_q2 = quantToNearestPowerOf2(w1)\n",
    "w2_q2 = quantToNearestPowerOf2(w2)\n",
    "w3_q2 = quantToNearestPowerOf2(w3)\n",
    "\n",
    "b1_q2 = quantToNearestPowerOf2(b1)\n",
    "b2_q2 = quantToNearestPowerOf2(b2)\n",
    "b3_q2 = quantToNearestPowerOf2(b3)\n",
    "\n",
    "export 2-power quantized weights to matlab\n",
    "import scipy.io\n",
    "scipy.io.savemat('power2_q.mat', \\\n",
    "                 dict(labels=test_labels,\\\n",
    "                      w1=w1_q2,b1=b1_q2,\\\n",
    "                      w2=w2_q2,b2=b2_q2,\\\n",
    "                      w3=w3_q2,b3=b3_q2))\n",
    "\n",
    "# Evaluate Accuracy\n",
    "for img in test_images:\n",
    "    x_inp = img.reshape(784,1)\n",
    "    x_inp_q = quantToNearestPowerOf2(x_inp)\n",
    "    acc1, acc2, layer1_op, layer2_op, layer3_op, predict \\\n",
    "            = forward(x_inp,w1_q2,b1_q2,w2_q2,b2_q2,w3_q2,b3_q2)\n",
    "    layer1_ops.append(layer1_op)\n",
    "    layer2_ops.append(layer2_op)\n",
    "    layer3_ops.append(layer3_op)\n",
    "    acc1s.append(acc1)\n",
    "    acc2s.append(acc2)\n",
    "    predictions.append(predict)"
   ]
  },
  {
   "cell_type": "markdown",
   "metadata": {},
   "source": [
    "<b> 5. Evaluate Performance of the Quantized Model"
   ]
  },
  {
   "cell_type": "code",
   "execution_count": 25,
   "metadata": {},
   "outputs": [
    {
     "name": "stdout",
     "output_type": "stream",
     "text": [
      "Accuracy of the Quantized Model after evaluating on MNIST Test Dataset is :94.2\n"
     ]
    }
   ],
   "source": [
    "import scipy.io\n",
    "w1 = model.layers[1].get_weights()[0]\n",
    "w2 = model.layers[2].get_weights()[0]\n",
    "w3 = model.layers[3].get_weights()[0]\n",
    "b1 = model.layers[1].get_weights()[1]\n",
    "b2 = model.layers[2].get_weights()[1]\n",
    "b3 = model.layers[3].get_weights()[1]\n",
    "\n",
    "layer1_ops = []\n",
    "layer2_ops = []\n",
    "layer3_ops = []\n",
    "acc1s = []\n",
    "acc2s =[]\n",
    "predictions=[]\n",
    "# Define new weights as quantized to power to 2 weights\n",
    "w1_q2 = quantToNearestPowerOf2(w1)\n",
    "w2_q2 = quantToNearestPowerOf2(w2)\n",
    "w3_q2 = quantToNearestPowerOf2(w3)\n",
    "\n",
    "b1_q2 = quantToNearestPowerOf2(b1)\n",
    "b2_q2 = quantToNearestPowerOf2(b2)\n",
    "b3_q2 = quantToNearestPowerOf2(b3)\n",
    "\n",
    "\n",
    "# Evaluate Accuracy\n",
    "for img in test_images:\n",
    "    x_inp = img.reshape(784,1)\n",
    "    x_inp_q = quantToNearestPowerOf2(x_inp)\n",
    "    acc1, acc2, layer1_op, layer2_op, layer3_op, predict \\\n",
    "            = forward(x_inp,w1_q2,b1_q2,w2_q2,b2_q2,w3_q2,b3_q2)\n",
    "    layer1_ops.append(layer1_op)\n",
    "    layer2_ops.append(layer2_op)\n",
    "    layer3_ops.append(layer3_op)\n",
    "    acc1s.append(acc1)\n",
    "    acc2s.append(acc2)\n",
    "    predictions.append(predict)\n",
    "accuracy= 1-np.count_nonzero(predictions-test_labels)/10000\n",
    "print(\"Accuracy of the Quantized Model after evaluating on MNIST Test Dataset is :{:.3}\".format(100*accuracy)) "
   ]
  },
  {
   "cell_type": "code",
   "execution_count": null,
   "metadata": {},
   "outputs": [],
   "source": []
  }
 ],
 "metadata": {
  "kernelspec": {
   "display_name": "Python 3",
   "language": "python",
   "name": "python3"
  },
  "language_info": {
   "codemirror_mode": {
    "name": "ipython",
    "version": 3
   },
   "file_extension": ".py",
   "mimetype": "text/x-python",
   "name": "python",
   "nbconvert_exporter": "python",
   "pygments_lexer": "ipython3",
   "version": "3.7.4"
  }
 },
 "nbformat": 4,
 "nbformat_minor": 2
}
